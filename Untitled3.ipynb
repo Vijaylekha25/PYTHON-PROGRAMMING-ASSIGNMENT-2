{
 "cells": [
  {
   "cell_type": "markdown",
   "id": "da15e8e2-88ca-4cc7-bcda-78bb0a0a3a88",
   "metadata": {},
   "source": [
    "Q1. How do you comment code in Python? What are the different types of comments?"
   ]
  },
  {
   "cell_type": "markdown",
   "id": "7ff64c39-bd0d-4d43-8bf4-f239bb117bb8",
   "metadata": {},
   "source": [
    "Single-line comments: These start with the hash symbol (#) and continue until the end of the line."
   ]
  },
  {
   "cell_type": "code",
   "execution_count": 1,
   "id": "fde24689-89e6-48fb-b2d4-b629f691cdb9",
   "metadata": {},
   "outputs": [],
   "source": [
    "# This is a single-line comment"
   ]
  },
  {
   "cell_type": "markdown",
   "id": "238ba28d-610e-4dc8-b3c8-f355fd4f13ee",
   "metadata": {},
   "source": [
    "Multi-line comments: These are enclosed within triple quotes (''' or \"\"\") and can span multiple lines."
   ]
  },
  {
   "cell_type": "code",
   "execution_count": 2,
   "id": "0d236213-5ef3-402c-b474-5a62c1fadb7f",
   "metadata": {},
   "outputs": [
    {
     "data": {
      "text/plain": [
       "'\\nThis is a multi-line comment.\\nIt can span across multiple lines.\\n'"
      ]
     },
     "execution_count": 2,
     "metadata": {},
     "output_type": "execute_result"
    }
   ],
   "source": [
    "'''\n",
    "This is a multi-line comment.\n",
    "It can span across multiple lines.\n",
    "'''"
   ]
  },
  {
   "cell_type": "markdown",
   "id": "44136236-ef19-4a67-b524-0498f79c3b02",
   "metadata": {},
   "source": [
    "Q2. What are variables in Python? How do you declare and assign values to variables?"
   ]
  },
  {
   "cell_type": "code",
   "execution_count": 3,
   "id": "b4850031-0f5c-4519-b149-e6ac55c15768",
   "metadata": {},
   "outputs": [
    {
     "ename": "NameError",
     "evalue": "name 'value' is not defined",
     "output_type": "error",
     "traceback": [
      "\u001b[1;31m---------------------------------------------------------------------------\u001b[0m",
      "\u001b[1;31mNameError\u001b[0m                                 Traceback (most recent call last)",
      "Cell \u001b[1;32mIn[3], line 2\u001b[0m\n\u001b[0;32m      1\u001b[0m \u001b[38;5;66;03m# Declaration and assignment\u001b[39;00m\n\u001b[1;32m----> 2\u001b[0m variable_name \u001b[38;5;241m=\u001b[39m \u001b[43mvalue\u001b[49m\n",
      "\u001b[1;31mNameError\u001b[0m: name 'value' is not defined"
     ]
    }
   ],
   "source": [
    "# Declaration and assignment\n",
    "variable_name = value"
   ]
  },
  {
   "cell_type": "markdown",
   "id": "486569f2-0b69-418c-b9cf-c4f98852d338",
   "metadata": {},
   "source": [
    "Q3. How do you convert one data type to another in Python?"
   ]
  },
  {
   "cell_type": "raw",
   "id": "f02b3f07-ac5e-4d29-b569-0c26aee7a578",
   "metadata": {},
   "source": [
    "int(): To convert to an integer.\n",
    "float(): To convert to a float.\n",
    "str(): To convert to a string.\n",
    "list(): To convert to a list.\n",
    "tuple(): To convert to a tuple."
   ]
  },
  {
   "cell_type": "markdown",
   "id": "ca632afe-3848-4e74-b23c-7c2887f6ee21",
   "metadata": {},
   "source": [
    "Q4. How do you write and execute a Python script from the command line?"
   ]
  },
  {
   "cell_type": "raw",
   "id": "5cb25bbf-8824-4497-916d-13e1a1f73b16",
   "metadata": {},
   "source": [
    "Create a new text file with a .py extension.\n",
    "1.Write your Python code in the file.\n",
    "2.Save the file.\n",
    "3.Open a command prompt or terminal.\n",
    "4.Navigate to the directory containing your Python script.\n",
    "5.Run the script using the python command followed by the script filename."
   ]
  },
  {
   "cell_type": "code",
   "execution_count": 5,
   "id": "d87897f5-85bd-4e3c-b387-95871c48c4bd",
   "metadata": {},
   "outputs": [
    {
     "ename": "SyntaxError",
     "evalue": "invalid syntax (4207338516.py, line 1)",
     "output_type": "error",
     "traceback": [
      "\u001b[1;36m  Cell \u001b[1;32mIn[5], line 1\u001b[1;36m\u001b[0m\n\u001b[1;33m    python script.py\u001b[0m\n\u001b[1;37m           ^\u001b[0m\n\u001b[1;31mSyntaxError\u001b[0m\u001b[1;31m:\u001b[0m invalid syntax\n"
     ]
    }
   ],
   "source": [
    "python script.py\n"
   ]
  },
  {
   "cell_type": "markdown",
   "id": "7079ec93-18f0-457a-8fb6-e4d7e004cd3c",
   "metadata": {},
   "source": [
    "Q5. Given a list my_list = [1, 2, 3, 4, 5], write the code to slice the list and obtain the sub-list [2, 3]."
   ]
  },
  {
   "cell_type": "code",
   "execution_count": 6,
   "id": "793ca631-6c24-4fcc-b1e8-0c2e9e68a06e",
   "metadata": {},
   "outputs": [
    {
     "name": "stdout",
     "output_type": "stream",
     "text": [
      "[2, 3]\n"
     ]
    }
   ],
   "source": [
    "my_list = [1, 2, 3, 4, 5]\n",
    "sub_list = my_list[1:3]\n",
    "print(sub_list)  # Output: [2, 3]"
   ]
  },
  {
   "cell_type": "markdown",
   "id": "1e9399a6-a0c4-44c8-b761-54082a944ada",
   "metadata": {},
   "source": [
    "Q6. What is a complex number in mathematics, and how is it represented in Python?"
   ]
  },
  {
   "cell_type": "markdown",
   "id": "a9bd1e42-0c47-49a8-bda7-6349efc6ea9d",
   "metadata": {},
   "source": [
    " In mathematics, a complex number is a number that comprises a real part and an imaginary part. In Python, complex numbers are represented by adding a \"j\" or \"J\" suffix to the imaginary part.\n"
   ]
  },
  {
   "cell_type": "code",
   "execution_count": 7,
   "id": "f4d25c0d-d302-4384-aad0-f6a79b759539",
   "metadata": {},
   "outputs": [],
   "source": [
    "z = 3 + 2j"
   ]
  },
  {
   "cell_type": "markdown",
   "id": "8c7b2d7f-b34d-4394-a623-e6b3dcbaa226",
   "metadata": {},
   "source": [
    "Q7. What is the correct way to declare a variable named age and assign the value 25 to it?"
   ]
  },
  {
   "cell_type": "code",
   "execution_count": 8,
   "id": "02949910-056a-4683-b20f-1cd6a57e0bb0",
   "metadata": {},
   "outputs": [],
   "source": [
    "age = 25"
   ]
  },
  {
   "cell_type": "markdown",
   "id": "f84cc752-a5b1-4b98-920a-2caa1245ee44",
   "metadata": {},
   "source": [
    "Q8. Declare a variable named price and assign the value 9.99 to it. What data type does this variable\n",
    "belong to?"
   ]
  },
  {
   "cell_type": "markdown",
   "id": "05001f2a-0a16-4b3a-a95a-3bee5fd97d22",
   "metadata": {},
   "source": [
    " If you declare a variable named price and assign the value 9.99 to it, this variable belongs to the float data type."
   ]
  },
  {
   "cell_type": "markdown",
   "id": "28153028-1a7c-4aff-8cf4-fee098805d32",
   "metadata": {},
   "source": [
    "Q9. Create a variable named name and assign your full name to it as a string. How would you print the\n",
    "value of this variable?"
   ]
  },
  {
   "cell_type": "code",
   "execution_count": 10,
   "id": "b64d966a-3a18-49b6-85f6-09989996ca18",
   "metadata": {},
   "outputs": [
    {
     "name": "stdout",
     "output_type": "stream",
     "text": [
      "Your Full Name\n"
     ]
    }
   ],
   "source": [
    "name = \"Your Full Name\"\n",
    "print(name)"
   ]
  },
  {
   "cell_type": "markdown",
   "id": "c1042fcf-e0d9-4c71-9972-06923ab0f7a6",
   "metadata": {},
   "source": [
    "Q10. Given the string \"Hello, World!\", extract the substring \"World\"."
   ]
  },
  {
   "cell_type": "code",
   "execution_count": 11,
   "id": "c4bb0272-0bed-41be-97aa-521a044eff92",
   "metadata": {},
   "outputs": [
    {
     "name": "stdout",
     "output_type": "stream",
     "text": [
      "World\n"
     ]
    }
   ],
   "source": [
    "string = \"Hello, World!\"\n",
    "substring = string[7:12]\n",
    "print(substring)  # Output: World"
   ]
  },
  {
   "cell_type": "markdown",
   "id": "8cbbe7da-2fea-4a69-9d79-7d80888bc77c",
   "metadata": {},
   "source": [
    "Q11. Create a variable named \"is_student\" and assign it a boolean value indicating whether you are\n",
    "currently a student or not."
   ]
  },
  {
   "cell_type": "code",
   "execution_count": 12,
   "id": "4b065bee-bf26-4079-bdd0-ee72f3328029",
   "metadata": {},
   "outputs": [],
   "source": [
    "is_student = True  # or False, depending on the context"
   ]
  },
  {
   "cell_type": "code",
   "execution_count": null,
   "id": "79443cb0-2955-4592-8180-febd85d06c3a",
   "metadata": {},
   "outputs": [],
   "source": []
  }
 ],
 "metadata": {
  "kernelspec": {
   "display_name": "Python 3 (ipykernel)",
   "language": "python",
   "name": "python3"
  },
  "language_info": {
   "codemirror_mode": {
    "name": "ipython",
    "version": 3
   },
   "file_extension": ".py",
   "mimetype": "text/x-python",
   "name": "python",
   "nbconvert_exporter": "python",
   "pygments_lexer": "ipython3",
   "version": "3.12.2"
  }
 },
 "nbformat": 4,
 "nbformat_minor": 5
}
